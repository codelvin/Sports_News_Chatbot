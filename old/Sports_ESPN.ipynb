{
 "cells": [
  {
   "cell_type": "code",
   "execution_count": 11,
   "metadata": {
    "collapsed": true
   },
   "outputs": [],
   "source": [
    "from selenium import webdriver\n",
    "from bs4 import BeautifulSoup\n",
    "import re\n",
    "import os\n",
    "import pandas as pd"
   ]
  },
  {
   "cell_type": "code",
   "execution_count": 148,
   "metadata": {
    "collapsed": true
   },
   "outputs": [],
   "source": [
    "def get_query(list):\n",
    "    # list generated from parser need to be formatted into http://www.espn.com/search/results?q=lonzo%20ball\n",
    "    #                                                     www.espn.com/search/results?q=carl%20anthony%20towns\n",
    "    search = 'http://www.espn.com/search/results?q='\n",
    "    for each in list:\n",
    "        search += each+'%20'\n",
    "    search = search[:-3]\n",
    "    return search"
   ]
  },
  {
   "cell_type": "code",
   "execution_count": 149,
   "metadata": {
    "collapsed": true
   },
   "outputs": [],
   "source": [
    "def get_url(query):\n",
    "    driver.get(query)\n",
    "    src = driver.page_source\n",
    "    pretty_src = BeautifulSoup(src,'lxml')\n",
    "    section_we_need = pretty_src.find_all(class_ = 'gsc-table-result')\n",
    "\n",
    "    # after we have the section, extract all urls inside\n",
    "    urls = []\n",
    "    for each in section_we_need:\n",
    "        each = str(each)\n",
    "        url = re.findall('href=\\\"(.*?)\\\"', each)\n",
    "        for every in url:\n",
    "            urls.append(every)\n",
    "            \n",
    "    #uniqify\n",
    "    uni_urls = []\n",
    "    for each in urls:\n",
    "        if each not in uni_urls:\n",
    "            uni_urls.append(each)\n",
    "            \n",
    "    #get story\n",
    "    story = []\n",
    "    for a in uni_urls:\n",
    "        if a.find('story')!=-1 and a.find('feature')==-1:\n",
    "            story.append(a)\n",
    "    return story"
   ]
  },
  {
   "cell_type": "code",
   "execution_count": 151,
   "metadata": {
    "collapsed": true
   },
   "outputs": [],
   "source": [
    "def get_header_article_per_url(url):\n",
    "    driver.get(url)\n",
    "    src = driver.page_source             # source html\n",
    "    pretty_src = BeautifulSoup(src,'lxml')\n",
    "    #print(pretty_src.prettify())\n",
    "    # now we have the page, select all text from source    \n",
    "    b = pretty_src.find('header', class_='article-header')\n",
    "    header = re.sub('<.*?>','', str(b.h1))\n",
    "    \n",
    "    a = pretty_src.find('div', class_='article-body')  # all div with class=\"article-body\"\n",
    "    if len(a.find_all('p'))!=0:\n",
    "        temp = a.find_all('p')\n",
    "        temp = list(temp)\n",
    "        temp = [str(i) for i in temp]\n",
    "        content = \"\".join(temp)\n",
    "        article = re.sub('<.*?>', '',content)\n",
    "    return header, article"
   ]
  },
  {
   "cell_type": "code",
   "execution_count": 152,
   "metadata": {
    "collapsed": true
   },
   "outputs": [],
   "source": [
    "def retrieve_articles(urls):\n",
    "    headers = []\n",
    "    articles = []\n",
    "    for each in urls:\n",
    "        header, article = get_header_article_per_url(each)\n",
    "        headers.append(header)\n",
    "        articles.append(article)\n",
    "    \n",
    "    return headers, articles"
   ]
  },
  {
   "cell_type": "code",
   "execution_count": null,
   "metadata": {
    "collapsed": true
   },
   "outputs": [],
   "source": [
    "def get_articles(keyword_list):\n",
    "    query = get_query(keyword_list)\n",
    "    urls = get_url(query)\n",
    "    headers, articles = retrieve_articles(urls)\n",
    "    return headers, articles"
   ]
  },
  {
   "cell_type": "code",
   "execution_count": 97,
   "metadata": {},
   "outputs": [
    {
     "name": "stdout",
     "output_type": "stream",
     "text": [
      "aaaaaa\n"
     ]
    },
    {
     "data": {
      "text/plain": [
       "'Marcus Morris played 37 minutes, scored 13 points, got 6 rebounds and 0 assists, won the game against CLE'"
      ]
     },
     "execution_count": 97,
     "metadata": {},
     "output_type": "execute_result"
    }
   ],
   "source": [
    "def get_player_game_stats(player, date):\n",
    "    # need the player's name, the game date. Since we're doing one sport, we don't need the sport name.\n",
    "    # This provides the results.\n",
    "    # get player's website\n",
    "    players_website = pd.read_csv('../playerDictionaries/players_website.csv')\n",
    "    website = players_website[players_website['Player Name']==player]['Player Website'].iloc[0]\n",
    "    website = website[0:30] +'/gamelog'+website[30:]\n",
    "    driver.get(website)\n",
    "    src = driver.page_source             # source html\n",
    "    pretty_src = BeautifulSoup(src,\"lxml\")\n",
    "    \n",
    "    # suppose the date is like 20180402, 8-digit number\n",
    "    date = date[4:6] + '/' + date[6:]\n",
    "    date = date[1:] if date[0]=='0' else date\n",
    "    \n",
    "    pretty_src = pretty_src.find('div', class_ = 'mod-container mod-table mod-player-stats')\n",
    "    games = pretty_src.findAll('tr', attrs = {\"class\":re.compile(r\".*team.*\")})\n",
    "    \n",
    "    msg = ''\n",
    "    for each in games:\n",
    "        if each.td.string.find(date)==-1:\n",
    "            # did not found the game!\n",
    "            continue\n",
    "        else:\n",
    "            stats = {'MIN':None, 'FGM-FGA':None, 'FG%':None, '3PM-3PA':None, '3P%':None, 'FTM-FTA':None, 'FT%':None, 'REB':None, 'AST':None, 'BLK':None, 'STL':None, 'PF':None, 'TO':None, 'PTS':None, 'WIN':None, 'OPPO':None}\n",
    "            tmp = each.findAll('td')\n",
    "            stats['MIN'] = tmp[3].string\n",
    "            stats['REB'] = tmp[10].string\n",
    "            stats['AST'] = tmp[11].string\n",
    "            stats['BLK'] = tmp[12].string\n",
    "            stats['STL'] = tmp[13].string\n",
    "            stats['PTS'] = tmp[-1].string\n",
    "            stats['OPPO'] = tmp[1].find('li', class_ = 'team-name').string\n",
    "            stats['WIN'] = 'won' if tmp[2].span.string=='W' else 'lost'\n",
    "            msg = '{} played {} minutes, scored {} points, got {} rebounds and {} assists, {} the game against {}'.format(player, stats['MIN'], stats['PTS'], stats['REB'], stats['AST'], stats['WIN'], stats['OPPO'])\n",
    "    if msg == '':\n",
    "        msg = 'He didn\\'t play on that day, try another one.'\n",
    "    return msg\n",
    "    \n",
    "get_player_game_stats('Marcus Morris', '20180523')"
   ]
  },
  {
   "cell_type": "code",
   "execution_count": 149,
   "metadata": {},
   "outputs": [
    {
     "name": "stdout",
     "output_type": "stream",
     "text": [
      "{'SEASON': None, 'TEAM': None, 'GP': None, 'GS': None, 'MIN': None, 'FGM-A': None, 'FG%': None, '3PM-A': None, '3P%': None, 'FTM-A': None, 'FT%': None, 'OR': None, 'DR': None, 'REB': None, 'AST': None, 'BLK': None, 'STL': None, 'PF': None, 'TO': None, 'PTS': None}\n"
     ]
    },
    {
     "data": {
      "text/plain": [
       "'Marcus Morris in BOS got an average of 13.6 pts with .429 field goal percentage and .368 3-pointer percentage, 5.4 rebounds, 1.3 assists, 0.2 blocks, 0.6 steals.'"
      ]
     },
     "execution_count": 149,
     "metadata": {},
     "output_type": "execute_result"
    }
   ],
   "source": [
    "def get_player_season_stats(player, *args):\n",
    "    # season is like 2017-2018\n",
    "    season = '\\'17-\\'18' if len(args) == 0 else '\\'' + args[0][2:4] + '-' +'\\''+args[0][-2:]\n",
    "    players_website = pd.read_csv('../playerDictionaries/players_website.csv')\n",
    "    website = players_website[players_website['Player Name']==player]['Player Website'].iloc[0]\n",
    "    website = website[0:30] +'/stats'+website[30:]\n",
    "    driver.get(website)\n",
    "    src = driver.page_source             # source html\n",
    "    pretty_src = BeautifulSoup(src,\"lxml\")\n",
    "    \n",
    "    average_table = pretty_src.find('div', class_ = 'mod-container mod-table mod-player-stats').div.tbody\n",
    "    \n",
    "    cols = average_table.find('tr', class_ = 'colhead')\n",
    "    cols = cols.findAll('td')\n",
    "    cols = [each.string for each in cols]\n",
    "    stats = dict.fromkeys(cols,None)\n",
    "    \n",
    "    rows = average_table.findAll('tr', attrs = {'class':re.compile(r'.*row.*')})\n",
    "    msg = ''\n",
    "    for each in rows:\n",
    "        if each.td.string == season:\n",
    "            data = each.findAll('td')\n",
    "            stats['TEAM'] = data[1].find('li', class_ = 'team-name').a.string\n",
    "            stats['MIN'] = data[4].string\n",
    "            stats['FG%'] = data[6].string\n",
    "            stats['3P%'] = data[8].string\n",
    "            stats['FT%'] = data[10].string\n",
    "            stats['REB'] = data[13].string\n",
    "            stats['AST'] = data[14].string\n",
    "            stats['BLK'] = data[15].string\n",
    "            stats['STL'] = data[16].string\n",
    "            stats['PTS'] = data[-1].string\n",
    "            msg = '{} in {} got an average of {} pts with {} field goal percentage and {} 3-pointer percentage, {} rebounds, {} assists, {} blocks, {} steals.'.format(player,stats['TEAM'], stats['PTS'], stats['FG%'], stats['3P%'], stats['REB'],stats['AST'], stats['BLK'], stats['STL'])\n",
    "        \n",
    "    if msg != '':\n",
    "        return msg\n",
    "    else:\n",
    "        return 'Sorry I cannot find the stats you are asking.'"
   ]
  },
  {
   "cell_type": "code",
   "execution_count": 102,
   "metadata": {
    "collapsed": true
   },
   "outputs": [],
   "source": [
    "def get_team_game_result(team, date):\n",
    "    date = date[4:6] + '.' + date[6:]\n",
    "    page = 'https://www.scoreboard.com/en/nba/results/'\n",
    "    driver.get(page)\n",
    "    src = driver.page_source             # source html\n",
    "    pretty_src = BeautifulSoup(src,\"lxml\")\n",
    "    info = pretty_src.tbody\n",
    "    games = info.find_all('tr')\n",
    "    time = []\n",
    "    home = []\n",
    "    away = []\n",
    "    score = []\n",
    "    for each in games:\n",
    "        if each.find('td', class_ = 'cell_ad') != None:         #time\n",
    "            time.append(each.find('td', class_ = 'cell_ad').string)\n",
    "        if each.find('td', class_ = 'cell_ab') != None:         #home team\n",
    "            home.append(each.find('td', class_ = 'cell_ab').span.string)\n",
    "        if each.find('td', class_ = 'cell_ac') != None:         #away team\n",
    "            away.append(each.find('td', class_ = 'cell_ac').span.string)\n",
    "        if each.find('td', class_ = 'cell_sa') != None:         #score\n",
    "            score.append(each.find('td', class_ = 'cell_sa').string)\n",
    "       \n",
    "    # we have team and date to put in!\n",
    "    for i in range(len(home)):\n",
    "        if (team == home[i] or team == away[i]) and time[i].find(date) != -1:\n",
    "            homescore = int(score[i].split(':')[0])\n",
    "            awayscore = int(score[i].split(':')[1])\n",
    "            if team == home[i]:\n",
    "                if homescore > awayscore:\n",
    "                    msg = '{} won with a score of: {}:{}!'.format(team,homescore,awayscore)\n",
    "                else:\n",
    "                    msg = '{} lost with a score of: {}:{}!'.format(team, awayscore, homescore)\n",
    "            else:\n",
    "                if homescore > awayscore:\n",
    "                    msg = '{} lost with a score of: {}:{}!'.format(team,awayscore,homescore)        \n",
    "                else:\n",
    "                    msg = '{} won with a score of: {}:{}!'.format(team, homescore, awayscore)\n",
    "            break\n",
    "    return msg"
   ]
  },
  {
   "cell_type": "code",
   "execution_count": null,
   "metadata": {
    "collapsed": true
   },
   "outputs": [],
   "source": [
    "def get_team_season_stats(team, *args):\n",
    "    #standings, game statistics, recent news(header and link)\n",
    "    # suppose season is like '2017-2018'\n",
    "    # the second in the args is regular season or playoffs\n",
    "    "
   ]
  },
  {
   "cell_type": "code",
   "execution_count": 5,
   "metadata": {
    "collapsed": true
   },
   "outputs": [],
   "source": [
    "# set before working\n",
    "abspath = os.path.abspath(r\"C:\\Program Files (x86)\\Google\\Chrome\\Application\\chromedriver.exe\")  \n",
    "driver = webdriver.Chrome(abspath)"
   ]
  },
  {
   "cell_type": "markdown",
   "metadata": {},
   "source": [
    "Presentation part"
   ]
  },
  {
   "cell_type": "code",
   "execution_count": 155,
   "metadata": {
    "collapsed": true
   },
   "outputs": [],
   "source": [
    "headers, articles = get_articles(['lakers', 'trade'])"
   ]
  },
  {
   "cell_type": "code",
   "execution_count": 103,
   "metadata": {},
   "outputs": [
    {
     "data": {
      "text/plain": [
       "'Toronto Raptors lost with a score of: 103:105!'"
      ]
     },
     "execution_count": 103,
     "metadata": {},
     "output_type": "execute_result"
    }
   ],
   "source": [
    "# This cell is for getting results and stats of a team/player directly.\n",
    "get_team_game_result(team = 'Toronto Raptors', date = '20180505')"
   ]
  },
  {
   "cell_type": "code",
   "execution_count": 157,
   "metadata": {},
   "outputs": [
    {
     "data": {
      "text/plain": [
       "(\"Donovan Mitchell: 'Terrible shots' led to poor play in loss to Rockets\",\n",
       " 'SALT LAKE CITY -- Donovan Mitchell\\'s perspective on fellow Rookie of the Year candidate Ben Simmons\\' struggles in the conference semifinals was unfortunately prophetic for the Utah Jazz star guard.Asked Friday morning about Simmons\\' one-point, five-turnover outing in the Philadelphia 76ers\\' Game 2 loss to the Boston Celtics, Mitchell answered in part, \"It happens to everybody.\"The Houston Rockets bounced back from an uneven Game 2 performance by making the second half of Game 3 in Salt Lake City irrelevant.Hours later, Mitchell had by far his worst playoff performance as the Houston Rockets routed the Jazz 113-92 in Game 3 to regain the advantage in the Western Conference semifinals series.Mitchell missed 10 of his first 11 field goal attempts and finished with a personal playoff-low 10 points on 4-of-16 shooting. Mitchell, who is playing point guard with Ricky Rubio sidelined by a hamstring injury, had as many turnovers (three) as assists.The Jazz were outscored by 31 points in Mitchell\\'s 31 minutes, the worst plus-minus in the game.\"I didn\\'t really do much as a whole, like I wasn\\'t there,\" Mitchell said. \"That can\\'t happen. That will probably be what I take away the most. It\\'s like I would have been better off just not showing up, because that\\'s what I did. I didn\\'t show up at all for my teammates, and I\\'ll fix it.\"Mitchell had been even more spectacular during the playoffs than he was during the regular season, when he became the first rookie to lead a playoff team in points per game since Carmelo Anthony in 2003-04.Complete coverage | Expert picks | Bracket• Warriors coast to Game 4 win, 3-1 lead\\n• Inside the shot that gave Cavs a 3-0 lead\\n• LeBron\\'s winner sends Twitter into a frenzy\\n• Horford, Celtics steal Game 3 against Sixers\\n• Is Rockets\\' Clint Capela a future All-Star?\\n• The top social media moments of the week\\n• Adams: Is \\'Playoff Rondo\\' a real thing?\\n• Injuries that are impacting the playoffs\\n• NBA offseason guides for eliminated teams\\n• Tickets on Vivid SeatsAccording to Elias Sports Bureau research, Kareem Abdul-Jabbar and Wilt Chamberlain are the only rookies in NBA history to score 200 points in the playoffs in fewer games than Mitchell, who averaged 26.1 points in the first eight playoff games of his career.Mitchell had an off shooting night in the Jazz\\'s Game 2 victory, going 6-of-21 from the floor, but he dominated as a distributor that night. His 11 assists in that win broke John Stockton\\'s franchise playoff record for a rookie.On Friday night, Mitchell blamed himself for failing as a facilitator, saying he forced shots he shouldn\\'t have attempted.\"I\\'ve got to pass the ball, for starters,\" Mitchell said. \"I was taking terrible shots. I made a few better passes in the second half, in the third quarter, but I can\\'t shoot terrible shots. That\\'s what leads to their transition. I don\\'t know how many shots I missed, but all the shots I missed were terrible shots. They weren\\'t good looks. I can\\'t have it, can\\'t do that.\"The Rockets, who ranked sixth in defensive efficiency during the regular season, certainly had something to do with Mitchell\\'s off night. Small forward Trevor Ariza (a game-best plus-40 in 28 minutes) draped Mitchell as the primary defender on the Jazz\\'s go-to guy. Center Clint Capela, who had four blocks, did a phenomenal job protecting the rim.\"They\\'re a good defensive team. They\\'ve been that all year,\" said Jazz coach Quin Snyder, who mentioned that Mitchell needs to adjust to the Rockets shading him to push him to go to his left hand. \"They raised their level, is what happened, and we weren\\'t able to get some of the things that we got [in Game 2]. I think we might have thought that it was going to be easier than it was. They raised their level. They made it harder, and we weren\\'t able to get where we wanted to get on the floor.\"Mitchell credited the Rockets for taking him and the rest of the Jazz starters out of their rhythm and being the aggressors all game. Houston jumped out to a 22-point lead in the first quarter and led by 30 at halftime.The Jazz were the first team to have all five starters not record a single free throw attempt in a playoff game since the NBA started listing starters on all of its box scores in 1970-71, according to Elias Sports Bureau research. The last time Utah did that in a regular-season game was in 1984 at Dallas.Rockets coach Mike D\\'Antoni joked about adjustments being the key to the Rockets\\' response after their home loss in Game 2.\"We adjusted our attitude and spirit and energy,\" D\\'Antoni said. \"That did it.\"When speaking about Simmons\\' struggles against the Celtics earlier in the day, Mitchell said the important thing is how a player responds after a poor performance. That\\'s now the challenge he\\'s facing with the Jazz trailing the top-seeded Rockets in the series.\"We\\'ve got to take this one on the chin and respond in Game 4,\" Mitchell said.\"He\\'s blaming himself for the loss,\" Jazz center Rudy Gobert said of Mitchell, \"but I know he\\'s going to come back next game and do amazing things.\"')"
      ]
     },
     "execution_count": 157,
     "metadata": {},
     "output_type": "execute_result"
    }
   ],
   "source": [
    "headers[0],articles[0]"
   ]
  }
 ],
 "metadata": {
  "kernelspec": {
   "display_name": "Python 3",
   "language": "python",
   "name": "python3"
  },
  "language_info": {
   "codemirror_mode": {
    "name": "ipython",
    "version": 3
   },
   "file_extension": ".py",
   "mimetype": "text/x-python",
   "name": "python",
   "nbconvert_exporter": "python",
   "pygments_lexer": "ipython3",
   "version": "3.6.1"
  }
 },
 "nbformat": 4,
 "nbformat_minor": 2
}
