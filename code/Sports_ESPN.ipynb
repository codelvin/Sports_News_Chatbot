{
 "cells": [
  {
   "cell_type": "code",
   "execution_count": 147,
   "metadata": {
    "collapsed": true
   },
   "outputs": [],
   "source": [
    "from selenium import webdriver\n",
    "from bs4 import BeautifulSoup\n",
    "import re\n",
    "import os"
   ]
  },
  {
   "cell_type": "code",
   "execution_count": 148,
   "metadata": {
    "collapsed": true
   },
   "outputs": [],
   "source": [
    "def get_query(list):\n",
    "    # list generated from parser need to be formatted into http://www.espn.com/search/results?q=lonzo%20ball\n",
    "    #                                                     www.espn.com/search/results?q=carl%20anthony%20towns\n",
    "    search = 'http://www.espn.com/search/results?q='\n",
    "    for each in list:\n",
    "        search += each+'%20'\n",
    "    search = search[:-3]\n",
    "    return search"
   ]
  },
  {
   "cell_type": "code",
   "execution_count": 149,
   "metadata": {
    "collapsed": true
   },
   "outputs": [],
   "source": [
    "def get_url(query):\n",
    "    driver.get(query)\n",
    "    src = driver.page_source\n",
    "    pretty_src = BeautifulSoup(src,'lxml')\n",
    "    section_we_need = pretty_src.find_all(class_ = 'gsc-table-result')\n",
    "\n",
    "    # after we have the section, extract all urls inside\n",
    "    urls = []\n",
    "    for each in section_we_need:\n",
    "        each = str(each)\n",
    "        url = re.findall('href=\\\"(.*?)\\\"', each)\n",
    "        for every in url:\n",
    "            urls.append(every)\n",
    "            \n",
    "    #uniqify\n",
    "    uni_urls = []\n",
    "    for each in urls:\n",
    "        if each not in uni_urls:\n",
    "            uni_urls.append(each)\n",
    "    return uni_urls"
   ]
  },
  {
   "cell_type": "code",
   "execution_count": 150,
   "metadata": {
    "collapsed": true
   },
   "outputs": [],
   "source": [
    "# because we can only deal with stories right now:)\n",
    "def get_story(urls):\n",
    "    story = []\n",
    "    for a in urls:\n",
    "        if a.find('story')!=-1 and a.find('feature')==-1:\n",
    "            story.append(a)\n",
    "    return story"
   ]
  },
  {
   "cell_type": "code",
   "execution_count": 151,
   "metadata": {
    "collapsed": true
   },
   "outputs": [],
   "source": [
    "def get_header_article_per_url(url):\n",
    "    driver.get(url)\n",
    "    src = driver.page_source             # source html\n",
    "    pretty_src = BeautifulSoup(src,'lxml')\n",
    "    #print(pretty_src.prettify())\n",
    "    # now we have the page, select all text from source    \n",
    "    b = pretty_src.find('header', class_='article-header')\n",
    "    header = re.sub('<.*?>','', str(b.h1))\n",
    "    \n",
    "    a = pretty_src.find('div', class_='article-body')  # all div with class=\"article-body\"\n",
    "    if len(a.find_all('p'))!=0:\n",
    "        temp = a.find_all('p')\n",
    "        temp = list(temp)\n",
    "        temp = [str(i) for i in temp]\n",
    "        content = \"\".join(temp)\n",
    "        article = re.sub('<.*?>', '',content)\n",
    "    return header, article"
   ]
  },
  {
   "cell_type": "code",
   "execution_count": 152,
   "metadata": {
    "collapsed": true
   },
   "outputs": [],
   "source": [
    "def retrieve_articles(urls):\n",
    "    headers = []\n",
    "    articles = []\n",
    "    for each in urls:\n",
    "        header, article = get_header_article_per_url(each)\n",
    "        headers.append(header)\n",
    "        articles.append(article)\n",
    "    \n",
    "    return headers, articles"
   ]
  },
  {
   "cell_type": "code",
   "execution_count": 158,
   "metadata": {},
   "outputs": [],
   "source": [
    "def game_result(team, date):\n",
    "    page = 'https://www.scoreboard.com/en/nba/results/'\n",
    "    driver.get(page)\n",
    "    src = driver.page_source             # source html\n",
    "    pretty_src = BeautifulSoup(src,\"lxml\")\n",
    "    info = pretty_src.tbody\n",
    "    games = info.find_all('tr')\n",
    "    time = []\n",
    "    home = []\n",
    "    away = []\n",
    "    score = []\n",
    "    for each in games:\n",
    "        if each.find('td', class_ = 'cell_ad') != None:         #time\n",
    "            time.append(each.find('td', class_ = 'cell_ad').string)\n",
    "        if each.find('td', class_ = 'cell_ab') != None:         #home team\n",
    "            home.append(each.find('td', class_ = 'cell_ab').span.string)\n",
    "        if each.find('td', class_ = 'cell_ac') != None:         #away team\n",
    "            away.append(each.find('td', class_ = 'cell_ac').span.string)\n",
    "        if each.find('td', class_ = 'cell_sa') != None:         #score\n",
    "            score.append(each.find('td', class_ = 'cell_sa').string)\n",
    "    # we have team and date to put in!\n",
    "    for i in range(len(home)):\n",
    "        if (team == home[i] or team == away[i]) and time[i].find(date) != -1:\n",
    "            homescore = int(score[i].split(':')[0])\n",
    "            awayscore = int(score[i].split(':')[1])\n",
    "            if team == home[i]:\n",
    "                if homescore > awayscore:\n",
    "                    print('{} won with a score of: {}:{}!'.format(team,homescore,awayscore))\n",
    "                else:\n",
    "                    print('{} lost with a score of: {}:{}!'.format(team, awayscore, homescore))\n",
    "            else:\n",
    "                if homescore > awayscore:\n",
    "                    print('{} lost with a score of: {}:{}!'.format(team,awayscore,homescore))           \n",
    "                else:\n",
    "                    print('{} won with a score of: {}:{}!'.format(team, homescore, awayscore))\n",
    "            break"
   ]
  },
  {
   "cell_type": "code",
   "execution_count": 154,
   "metadata": {
    "collapsed": true
   },
   "outputs": [],
   "source": [
    "# set before working\n",
    "abspath = os.path.abspath(r\"C:\\Program Files (x86)\\Google\\Chrome\\Application\\chromedriver.exe\")  \n",
    "driver = webdriver.Chrome(abspath)"
   ]
  },
  {
   "cell_type": "markdown",
   "metadata": {},
   "source": [
    "Presentation part"
   ]
  },
  {
   "cell_type": "code",
   "execution_count": 155,
   "metadata": {},
   "outputs": [],
   "source": [
    "query = get_query(['donovan','mitchell'])\n",
    "urls = get_url(query)\n",
    "story = get_story(urls)\n",
    "headers, articles = retrieve_articles(story[0:2])"
   ]
  },
  {
   "cell_type": "code",
   "execution_count": 159,
   "metadata": {},
   "outputs": [
    {
     "name": "stdout",
     "output_type": "stream",
     "text": [
      "Toronto Raptors lost with a score of: 103:105!\n"
     ]
    }
   ],
   "source": [
    "# This cell is for getting results and stats of a team/player directly.\n",
    "game_result(team = 'Toronto Raptors', date = '05.05')"
   ]
  },
  {
   "cell_type": "code",
   "execution_count": 157,
   "metadata": {},
   "outputs": [
    {
     "data": {
      "text/plain": [
       "(\"Donovan Mitchell: 'Terrible shots' led to poor play in loss to Rockets\",\n",
       " 'SALT LAKE CITY -- Donovan Mitchell\\'s perspective on fellow Rookie of the Year candidate Ben Simmons\\' struggles in the conference semifinals was unfortunately prophetic for the Utah Jazz star guard.Asked Friday morning about Simmons\\' one-point, five-turnover outing in the Philadelphia 76ers\\' Game 2 loss to the Boston Celtics, Mitchell answered in part, \"It happens to everybody.\"The Houston Rockets bounced back from an uneven Game 2 performance by making the second half of Game 3 in Salt Lake City irrelevant.Hours later, Mitchell had by far his worst playoff performance as the Houston Rockets routed the Jazz 113-92 in Game 3 to regain the advantage in the Western Conference semifinals series.Mitchell missed 10 of his first 11 field goal attempts and finished with a personal playoff-low 10 points on 4-of-16 shooting. Mitchell, who is playing point guard with Ricky Rubio sidelined by a hamstring injury, had as many turnovers (three) as assists.The Jazz were outscored by 31 points in Mitchell\\'s 31 minutes, the worst plus-minus in the game.\"I didn\\'t really do much as a whole, like I wasn\\'t there,\" Mitchell said. \"That can\\'t happen. That will probably be what I take away the most. It\\'s like I would have been better off just not showing up, because that\\'s what I did. I didn\\'t show up at all for my teammates, and I\\'ll fix it.\"Mitchell had been even more spectacular during the playoffs than he was during the regular season, when he became the first rookie to lead a playoff team in points per game since Carmelo Anthony in 2003-04.Complete coverage | Expert picks | Bracket• Warriors coast to Game 4 win, 3-1 lead\\n• Inside the shot that gave Cavs a 3-0 lead\\n• LeBron\\'s winner sends Twitter into a frenzy\\n• Horford, Celtics steal Game 3 against Sixers\\n• Is Rockets\\' Clint Capela a future All-Star?\\n• The top social media moments of the week\\n• Adams: Is \\'Playoff Rondo\\' a real thing?\\n• Injuries that are impacting the playoffs\\n• NBA offseason guides for eliminated teams\\n• Tickets on Vivid SeatsAccording to Elias Sports Bureau research, Kareem Abdul-Jabbar and Wilt Chamberlain are the only rookies in NBA history to score 200 points in the playoffs in fewer games than Mitchell, who averaged 26.1 points in the first eight playoff games of his career.Mitchell had an off shooting night in the Jazz\\'s Game 2 victory, going 6-of-21 from the floor, but he dominated as a distributor that night. His 11 assists in that win broke John Stockton\\'s franchise playoff record for a rookie.On Friday night, Mitchell blamed himself for failing as a facilitator, saying he forced shots he shouldn\\'t have attempted.\"I\\'ve got to pass the ball, for starters,\" Mitchell said. \"I was taking terrible shots. I made a few better passes in the second half, in the third quarter, but I can\\'t shoot terrible shots. That\\'s what leads to their transition. I don\\'t know how many shots I missed, but all the shots I missed were terrible shots. They weren\\'t good looks. I can\\'t have it, can\\'t do that.\"The Rockets, who ranked sixth in defensive efficiency during the regular season, certainly had something to do with Mitchell\\'s off night. Small forward Trevor Ariza (a game-best plus-40 in 28 minutes) draped Mitchell as the primary defender on the Jazz\\'s go-to guy. Center Clint Capela, who had four blocks, did a phenomenal job protecting the rim.\"They\\'re a good defensive team. They\\'ve been that all year,\" said Jazz coach Quin Snyder, who mentioned that Mitchell needs to adjust to the Rockets shading him to push him to go to his left hand. \"They raised their level, is what happened, and we weren\\'t able to get some of the things that we got [in Game 2]. I think we might have thought that it was going to be easier than it was. They raised their level. They made it harder, and we weren\\'t able to get where we wanted to get on the floor.\"Mitchell credited the Rockets for taking him and the rest of the Jazz starters out of their rhythm and being the aggressors all game. Houston jumped out to a 22-point lead in the first quarter and led by 30 at halftime.The Jazz were the first team to have all five starters not record a single free throw attempt in a playoff game since the NBA started listing starters on all of its box scores in 1970-71, according to Elias Sports Bureau research. The last time Utah did that in a regular-season game was in 1984 at Dallas.Rockets coach Mike D\\'Antoni joked about adjustments being the key to the Rockets\\' response after their home loss in Game 2.\"We adjusted our attitude and spirit and energy,\" D\\'Antoni said. \"That did it.\"When speaking about Simmons\\' struggles against the Celtics earlier in the day, Mitchell said the important thing is how a player responds after a poor performance. That\\'s now the challenge he\\'s facing with the Jazz trailing the top-seeded Rockets in the series.\"We\\'ve got to take this one on the chin and respond in Game 4,\" Mitchell said.\"He\\'s blaming himself for the loss,\" Jazz center Rudy Gobert said of Mitchell, \"but I know he\\'s going to come back next game and do amazing things.\"')"
      ]
     },
     "execution_count": 157,
     "metadata": {},
     "output_type": "execute_result"
    }
   ],
   "source": [
    "headers[0],articles[0]"
   ]
  }
 ],
 "metadata": {
  "kernelspec": {
   "display_name": "Python 3",
   "language": "python",
   "name": "python3"
  },
  "language_info": {
   "codemirror_mode": {
    "name": "ipython",
    "version": 3
   },
   "file_extension": ".py",
   "mimetype": "text/x-python",
   "name": "python",
   "nbconvert_exporter": "python",
   "pygments_lexer": "ipython3",
   "version": "3.6.1"
  }
 },
 "nbformat": 4,
 "nbformat_minor": 2
}
