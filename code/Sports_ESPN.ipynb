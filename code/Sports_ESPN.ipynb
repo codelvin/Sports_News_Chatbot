{
 "cells": [
  {
   "cell_type": "code",
   "execution_count": 1,
   "metadata": {
    "collapsed": true
   },
   "outputs": [],
   "source": [
    "from selenium import webdriver\n",
    "from bs4 import BeautifulSoup\n",
    "import re\n",
    "import os"
   ]
  },
  {
   "cell_type": "code",
   "execution_count": 2,
   "metadata": {},
   "outputs": [],
   "source": [
    "# def get_query(list):\n",
    "#     list generated from parser need to be formatted into "
   ]
  },
  {
   "cell_type": "code",
   "execution_count": 3,
   "metadata": {
    "collapsed": true
   },
   "outputs": [],
   "source": [
    "def get_url(query):\n",
    "    driver.get(query)\n",
    "    src = driver.page_source\n",
    "    pretty_src = BeautifulSoup(src)\n",
    "    section_we_need = pretty_src.find_all(class_ = 'gsc-table-result')\n",
    "\n",
    "    # after we have the section, extract all urls inside\n",
    "    urls = []\n",
    "    for each in section_we_need:\n",
    "        each = str(each)\n",
    "        url = re.findall('href=\\\"(.*?)\\\"', each)\n",
    "        for every in url:\n",
    "            urls.append(every)\n",
    "            \n",
    "    #uniqify\n",
    "    uni_urls = []\n",
    "    for each in urls:\n",
    "        if each not in uni_urls:\n",
    "            uni_urls.append(each)\n",
    "    return uni_urls"
   ]
  },
  {
   "cell_type": "code",
   "execution_count": 101,
   "metadata": {},
   "outputs": [],
   "source": [
    "def get_header_article_per_url(url):\n",
    "    driver.get(url)\n",
    "    src = driver.page_source             # source html\n",
    "    pretty_src = BeautifulSoup(src)\n",
    "    #print(pretty_src.prettify())\n",
    "    # now we have the page, select all text from source    \n",
    "    b = pretty_src.find('header', class_='article-header')\n",
    "    header = re.sub('<.*?>','', str(b.h1))\n",
    "    \n",
    "    a = pretty_src.find('div', class_='article-body')  # all div with class=\"article-body\"\n",
    "    if len(a.find_all('p'))!=0:\n",
    "        temp = a.find_all('p')\n",
    "        temp = list(temp)\n",
    "        temp = [str(i) for i in temp]\n",
    "        content = \"\".join(temp)\n",
    "        article = re.sub('<.*?>', '',content)\n",
    "    return header, article"
   ]
  },
  {
   "cell_type": "code",
   "execution_count": 84,
   "metadata": {
    "collapsed": true
   },
   "outputs": [],
   "source": [
    "def retrieve_articles(urls):\n",
    "    headers = []\n",
    "    articles = []\n",
    "    for each in urls:\n",
    "        header, article = get_header_article_per_url(each)\n",
    "        headers.append(header)\n",
    "        articles.append(article)\n",
    "    \n",
    "    return headers, articles"
   ]
  },
  {
   "cell_type": "code",
   "execution_count": 6,
   "metadata": {},
   "outputs": [
    {
     "name": "stderr",
     "output_type": "stream",
     "text": [
      "C:\\Users\\zs111\\Anaconda3\\lib\\site-packages\\bs4\\__init__.py:181: UserWarning: No parser was explicitly specified, so I'm using the best available HTML parser for this system (\"lxml\"). This usually isn't a problem, but if you run this code on another system, or in a different virtual environment, it may use a different parser and behave differently.\n",
      "\n",
      "The code that caused this warning is on line 193 of the file C:\\Users\\zs111\\Anaconda3\\lib\\runpy.py. To get rid of this warning, change code that looks like this:\n",
      "\n",
      " BeautifulSoup(YOUR_MARKUP})\n",
      "\n",
      "to this:\n",
      "\n",
      " BeautifulSoup(YOUR_MARKUP, \"lxml\")\n",
      "\n",
      "  markup_type=markup_type))\n"
     ]
    }
   ],
   "source": [
    "# set before working\n",
    "abspath = os.path.abspath(r\"C:\\Program Files (x86)\\Google\\Chrome\\Application\\chromedriver.exe\")  \n",
    "driver = webdriver.Chrome(abspath)\n",
    "\n",
    "query = 'http://www.espn.com/search/results?q=lonzo%20ball'\n",
    "urls = get_url(query)"
   ]
  },
  {
   "cell_type": "code",
   "execution_count": 105,
   "metadata": {},
   "outputs": [
    {
     "name": "stdout",
     "output_type": "stream",
     "text": [
      "['http://www.espn.com/nba/story/_/id/23018463/lonzo-ball-bars', 'http://www.espn.com/nba/story/_/id/23142544/lonzo-ball-los-angeles-lakers-says-magic-johnson-told-be-biggest-summer-life', 'http://www.espn.com/nba/story/_/id/22949406/lonzo-ball-los-angeles-lakers-exits-game-left-knee-injury', 'http://www.espn.com/nba/story/_/id/22968915/los-angeles-lakers-guard-lonzo-ball-left-knee-contusion', 'http://www.espn.com/nba/story/_/id/23317012/battling-injuries-liangelo-lamelo-ball-leave-lithuania-bc-vytautas', 'http://www.espn.com/nba/story/_/id/22450175/los-angeles-lakers-star-lonzo-ball-caught-famous-father-team']\n"
     ]
    }
   ],
   "source": [
    "# because we can only deal with stories right now:)\n",
    "story = []\n",
    "for a in urls:\n",
    "    if a.find('story')!=-1:\n",
    "        story.append(a)\n",
    "print(story)"
   ]
  },
  {
   "cell_type": "code",
   "execution_count": 102,
   "metadata": {},
   "outputs": [
    {
     "name": "stderr",
     "output_type": "stream",
     "text": [
      "C:\\Users\\zs111\\Anaconda3\\lib\\site-packages\\bs4\\__init__.py:181: UserWarning: No parser was explicitly specified, so I'm using the best available HTML parser for this system (\"lxml\"). This usually isn't a problem, but if you run this code on another system, or in a different virtual environment, it may use a different parser and behave differently.\n",
      "\n",
      "The code that caused this warning is on line 193 of the file C:\\Users\\zs111\\Anaconda3\\lib\\runpy.py. To get rid of this warning, change code that looks like this:\n",
      "\n",
      " BeautifulSoup(YOUR_MARKUP})\n",
      "\n",
      "to this:\n",
      "\n",
      " BeautifulSoup(YOUR_MARKUP, \"lxml\")\n",
      "\n",
      "  markup_type=markup_type))\n"
     ]
    }
   ],
   "source": [
    "headers, articles = retrieve_articles(story)"
   ]
  },
  {
   "cell_type": "code",
   "execution_count": 103,
   "metadata": {},
   "outputs": [
    {
     "data": {
      "text/plain": [
       "'The following is an extended version of a story that appeared in ESPN The Magazine\\'s April 27 issue. Subscribe today!Inside an L.A. recording studio, 20-year-old Lakers rookie Lonzo Ball, would-be franchise savior by both day and night, and rapper when he\\'s got a minute, goads me to his microphone and hands me his lyrics. \"You got this,\" Ball says. There\\'s one problem, though. \"We gotta move the mic waayyy down,\" kids the 6-foot-6 point guard as he adjusts the mic to its lowest point -- at my hair. \"Anybody got a stepping stool?\" he asks.And with that, the No. 2 pick let me into his creative sanctuary -- where he recorded Born 2 Ball via his own Big Baller Music Group -- for a chat about his music, his incoming baby and a promising young squad that has some Lakers fans -- this lifer included -- imagining a bright future with or without a certain franchise savior from Ohio.The Mag: So, I downloaded your album -- even paid for it, by the way. You\\'re welcome.Ball: Appreciate it.I\\'m no Pharrell, but you got skills for a rookie rapper. What sparked this? I used to write for fun all the time, even when I was little, but I took it seriously for the first time this year. It\\'s a way of expressing myself. My life revolves around basketball, but in here, there\\'s freedom. You can say whatever you want -- there\\'s no restrictions. You can just release. It\\'s therapeutic.But you\\'re not just any rookie MC. Haters will want to see Lonzo Ball fail. Do you feel extra pressure to not suck? [Laughs] Whether people like it or not, I like it and I have fun doing it. You should do what makes you happy. Be your own person, put out your music, and just be you.Shaq had a platinum album. Then came a bunch of garbage: Deion Sanders, Jason Kidd, Kobe and so on. But athlete-MCs are making a comeback. Damian Lillard and Le\\'Veon Bell are really good. [Iman] Shumpert.I like Shump. Who\\'s the best in the game? I\\'m not going to say someone\\'s better than me, but besides myself, I\\'d go with Dame. I like Dame\\'s music.During timeouts, do you guys ever chat up the music titans sitting courtside, like, \"Hey, can you listen to my stuff and hit me back?\" [Laughs] I never have, but Migos was at the game in Atlanta, and they said they were fans of my songs. It\\'s really cool to hear from your favorite artists, guys like Jermaine Dupri, and know they listened to it.What do your teammates think of your music? They like it for the most part. Kuz [Kyle Kuzma] clowns me, but he listens to it too, so I don\\'t know what he be talking about. \"Get Off\" is the locker room favorite.If you had to put a diss track out today, who\\'d be your target? Kuz. I might have to do that this summer, just go at him about his fleece. That might be the hook.Why are you always clowning Kuz about his fleece?He wore the same fleece jacket, I swear, for like five days straight. Like, \"All right, bro, we get it, you love fleece. Change the color or something.\" Fake furs, leather jackets, turtlenecks. [Laughs] He just wants attention.So, if the worst-dressed Laker is Kuz, who\\'s the most popular with the ladies? Low key, Kuz. Kuz Mania\\'s popping right now. Yeah, I\\'ll give him that one.Is it true that Lithuania will host your first concert? I want to do some shows this summer. I don\\'t know about Lithuania yet, but everybody there loves my family, so, I figure even if I suck, they won\\'t tell me [Laughs]. Maybe they won\\'t even know what I\\'m saying.Let\\'s talk ball. You filled up stat sheets, showed phenomenal potential, but you\\'ve also struggled. What letter grade do you give your rookie season? I give myself a B. I don\\'t think I did tremendously well, don\\'t think I did bad. But missing the playoffs is tough. That was the goal. We thought we have the talent to make it. But I\\'m happy. We won more games than we won last year. That\\'s a plus.You already know I bleed purple and gold. Been a fan since ...Before I was born? [Laughs]Right. And we have such lofty expectations of you. Can you feel that weight? Obviously, there is pressure being the No. 2 pick, all the stuff my dad said, how I\\'m supposed to come in and change the whole program. My only goal is to win a championship as soon as possible. Everybody wants an MVP or Defensive Player of the Year award. I want a ring.Would you like to know what Lakers fans talk about at bars when we talk about you? [Laughs] All right, cool.We wonder, do you want to be great? GREAT -- all caps.For sure. I want to be the best player to ever play. That\\'s why I play. LeBron wants to be the best. Kobe wanted to be the best. That\\'s what you do.I ask because, as fans often point out, you don\\'t show a lot of emotion. Yeah. I know I play with a lot of passion, but from the outside looking in, people say, \"He\\'s passive. Doesn\\'t play hard.\" And others say, \"It just comes easy to him. He\\'s smooth.\" That\\'s just how I play. Always been the same person. I\\'m not loud. Not gonna be crazy with the refs.When was the last time you were angry about something? Like, actually mad? Probably something with Melo -- my little brother makes me mad. And people that chew out loud, smacking on popcorn during movies, like my brother LiAngelo when he eats candy -- that makes me mad. But I think anger is a wasted emotion. Why are you letting others determine how you live your life?And we\\'re always talking about your funky shot. This summer, will you reconstruct it, tweak it, or keep your form?It\\'ll stay the same. I\\'ve been shooting that way for a long time. If I change it, it won\\'t be for the better. I\\'m confident in it. If I\\'m open, I\\'m shooting. I just got to work on it until it becomes consistent. I also want to focus on my midrange. With all the pick-and-rolls in the NBA, getting in the lane and shooting floaters or pull-ups will help a lot. And, physically, gotta get stronger. I guard bigs with all our switching on defense, so the weight room will be big this summer.Your improved shooting aside, most fans are praying for two other things this summer: max-salary guys -- one being LeBron. What would you like to see happen?If LeBron comes, great. If not, I wish him the best. But I like our team right now, to be honest. Got a lot of young, growing talent -- myself, Kuz, Brandon Ingram is growing a lot, Julius Randle really evolved this year. I love those guys, and we\\'ll be special in the future. In the meantime, we\\'re learning the ropes together, having fun on and off the court, like bowling recently -- maybe that\\'s a bad example because Luke and the old people won. We were terrible.There\\'s one topic that divides fans across America: your dad.[Laughs] Yeah, definitely.Frankly, I don\\'t want to talk about LaVar today. I want to hear from you, about you. But I will ask about your cover art: Why did you rock that pic of baby Zo and LaVar?I found it going through old pictures, and I was like, that\\'s dope. Since I was that big, he talked the way he\\'s talking now. I just let him live his life and be free. I wouldn\\'t be here without him. He\\'s shown me everything I know. Got me involved in music early, put me in basketball early, trained me my whole life. I owe him a lot.You\\'ll soon be a dad yourself. Boy or girl?Can\\'t say yet.I hear ya. My bro and sister-in-law are expecting, and they\\'re acting crazy over the gender reveal. [Laughs] It\\'s serious.What\\'s going through your head as Baby Ball\\'s arrival nears?When you first hear it, it\\'s kind of crazy, you know? Your life is about to change -- quick. I talked to my dad, and basically, he said, \"I tried to be the best dad I could. Now it\\'s your turn to be the best dad you can for your baby. Just take care of yours.\" I gotta grow up a little faster than some of my peers, but everything happens for a reason. I truly believe that. I believe in God, and he wanted this to happen, so it\\'s a blessing, and me and Denise [Garcia] can\\'t wait for July 16, the due date.'"
      ]
     },
     "execution_count": 103,
     "metadata": {},
     "output_type": "execute_result"
    }
   ],
   "source": [
    "articles[0]"
   ]
  }
 ],
 "metadata": {
  "kernelspec": {
   "display_name": "Python 3",
   "language": "python",
   "name": "python3"
  },
  "language_info": {
   "codemirror_mode": {
    "name": "ipython",
    "version": 3
   },
   "file_extension": ".py",
   "mimetype": "text/x-python",
   "name": "python",
   "nbconvert_exporter": "python",
   "pygments_lexer": "ipython3",
   "version": "3.6.1"
  }
 },
 "nbformat": 4,
 "nbformat_minor": 2
}
